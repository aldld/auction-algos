{
 "cells": [
  {
   "cell_type": "code",
   "execution_count": 1,
   "metadata": {
    "collapsed": true
   },
   "outputs": [],
   "source": [
    "import auction\n",
    "a = auction.Node(\"a\", 100, 100, 1.0)\n",
    "b = auction.Node(\"b\", 300, 100, 0.0)\n",
    "c = auction.Node(\"c\", 500, 100, 0.0)\n",
    "d = auction.Node(\"d\", 700, 100, 0.0)\n",
    "e = auction.Node(\"e\", 900, 100, -1.0)\n",
    "\n",
    "g = auction.Graph([a, b, c, d, e])\n",
    "g.add_edge(a, b, 1.0)\n",
    "g.add_edge(b, c, 2.0)\n",
    "g.add_edge(c, d, 4.0)\n",
    "g.add_edge(d, e, 1.0)\n",
    "\n",
    "auction.er_min_cost_flow(\n",
    "    eps=0.25,\n",
    "    graph=g,\n",
    "    debug=True,\n",
    "    visualizer=auction.IPyDisplayD3(eps=0.25, width=960, height=200))"
   ]
  },
  {
   "cell_type": "code",
   "execution_count": null,
   "metadata": {
    "collapsed": true
   },
   "outputs": [],
   "source": []
  }
 ],
 "metadata": {
  "kernelspec": {
   "display_name": "Python 3",
   "language": "python",
   "name": "python3"
  },
  "language_info": {
   "codemirror_mode": {
    "name": "ipython",
    "version": 3
   },
   "file_extension": ".py",
   "mimetype": "text/x-python",
   "name": "python",
   "nbconvert_exporter": "python",
   "pygments_lexer": "ipython3",
   "version": "3.4.2"
  }
 },
 "nbformat": 4,
 "nbformat_minor": 2
}
